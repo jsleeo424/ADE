{
 "cells": [
  {
   "cell_type": "code",
   "execution_count": 2,
   "metadata": {},
   "outputs": [],
   "source": [
    "import numpy as np\n",
    "import pandas as pd"
   ]
  },
  {
   "cell_type": "code",
   "execution_count": 3,
   "metadata": {},
   "outputs": [],
   "source": [
    "raw_BMI_pd = pd.read_excel('data/abcd_ant01.xlsx')\n",
    "raw_BMI_pd.dropna(axis=0, inplace=True)\n",
    "raw_BMI_pd.drop(['anthro_waist_cm','anthroweightcast','anthroweight2lb'], axis=1, inplace=True)\n",
    "BMI_is_baseline = (raw_BMI_pd['eventname'] == '2_year_follow_up_y_arm_1')\n",
    "BMI_pd = raw_BMI_pd.loc[BMI_is_baseline]\n",
    "BMI_pd = BMI_pd.astype({'anthroweight1lb':'float','anthroheightcalc':'float'})\n",
    "# weight (lb) / [height (in)]^2 x 703\n",
    "BMI_pd['BMI'] = BMI_pd['anthroweight1lb'] / (BMI_pd['anthroheightcalc'] ** 2) * 703\n",
    "BMI_pd.drop(['eventname','anthroweight1lb','anthroheightcalc'], axis=1,inplace=True)"
   ]
  },
  {
   "cell_type": "code",
   "execution_count": 4,
   "metadata": {},
   "outputs": [],
   "source": [
    "raw_SLEEP_pd = pd.read_excel('data/abcd_fbdss01.xlsx')\n",
    "raw_SLEEP_pd.dropna(axis=0, inplace=True)\n",
    "SLEEP_is_baseline = (raw_SLEEP_pd['eventname'] == '2_year_follow_up_y_arm_1')\n",
    "SLEEP_pd = raw_SLEEP_pd.loc[SLEEP_is_baseline]\n",
    "SLEEP_pd = SLEEP_pd.groupby(['subjectkey'], as_index=False)['fit_ss_sleepperiod_minutes'].mean()"
   ]
  },
  {
   "cell_type": "code",
   "execution_count": 5,
   "metadata": {},
   "outputs": [
    {
     "name": "stderr",
     "output_type": "stream",
     "text": [
      "/var/folders/ky/kd4vshc11r5527rm2mgv0qvr0000gn/T/ipykernel_65436/3054932719.py:5: SettingWithCopyWarning: \n",
      "A value is trying to be set on a copy of a slice from a DataFrame\n",
      "\n",
      "See the caveats in the documentation: https://pandas.pydata.org/pandas-docs/stable/user_guide/indexing.html#returning-a-view-versus-a-copy\n",
      "  INCOME_pd.drop(['eventname'], axis=1, inplace=True)\n"
     ]
    }
   ],
   "source": [
    "raw_INCOME_pd = pd.read_excel('data/pdem02.xlsx')\n",
    "raw_INCOME_pd.dropna(axis=0, inplace=True)\n",
    "INCOME_is_baseline = (raw_INCOME_pd['eventname'] == 'baseline_year_1_arm_1') & (raw_INCOME_pd['demo_comb_income_v2'].isin(range(10)))\n",
    "INCOME_pd = raw_INCOME_pd.loc[INCOME_is_baseline]\n",
    "INCOME_pd.drop(['eventname'], axis=1, inplace=True) "
   ]
  },
  {
   "cell_type": "code",
   "execution_count": 6,
   "metadata": {},
   "outputs": [],
   "source": [
    "raw_SCREEN_pd = pd.read_excel('data/abcd_stq01.xlsx')\n",
    "raw_SCREEN_pd.dropna(axis=0, inplace=True)\n",
    "SCREEN_is_baseline = (raw_SCREEN_pd['eventname'] == 'baseline_year_1_arm_1')\n",
    "SCREEN_pd = raw_SCREEN_pd.loc[SCREEN_is_baseline]\n",
    "pd.set_option('mode.chained_assignment', None)\n",
    "SCREEN_pd['avg_screen'] = ((SCREEN_pd['screen1_wkdy_y'] + \\\n",
    "                        SCREEN_pd['screen2_wkdy_y'] + \\\n",
    "                        SCREEN_pd['screen3_wkdy_y'] + \\\n",
    "                        SCREEN_pd['screen4_wkdy_y'] + \\\n",
    "                        SCREEN_pd['screen5_wkdy_y'] + \\\n",
    "                        SCREEN_pd['screen6_wkdy_y']) * 5. + \\\n",
    "                        (SCREEN_pd['screen7_wknd_y'] + \\\n",
    "                        SCREEN_pd['screen8_wknd_y'] + \\\n",
    "                        SCREEN_pd['screen9_wknd_y'] + \\\n",
    "                        SCREEN_pd['screen10_wknd_y'] + \\\n",
    "                        SCREEN_pd['screen11_wknd_y'] + \\\n",
    "                        SCREEN_pd['screen12_wknd_y']) * 2.) / 7.\n",
    "SCREEN_pd.drop(['screen1_wkdy_y','screen2_wkdy_y',\\\n",
    "                            'screen3_wkdy_y','screen4_wkdy_y',\\\n",
    "                            'screen5_wkdy_y','screen6_wkdy_y',\\\n",
    "                            'screen7_wknd_y','screen8_wknd_y',\\\n",
    "                            'screen9_wknd_y','screen10_wknd_y',\\\n",
    "                            'screen11_wknd_y','screen12_wknd_y',\\\n",
    "                           'eventname'],axis=1, inplace=True)"
   ]
  },
  {
   "cell_type": "code",
   "execution_count": 7,
   "metadata": {},
   "outputs": [],
   "source": [
    "raw_PREGNANCY_pd = pd.read_excel('data/dhx01.xlsx')\n",
    "raw_PREGNANCY_pd.dropna(axis=0, inplace=True)\n",
    "PREGNANCY_is_valid = (raw_PREGNANCY_pd['visit'] == 'baseline_year_1_arm_1') & \\\n",
    "                raw_PREGNANCY_pd['devhx_1_p'] == 1 &\\\n",
    "                raw_PREGNANCY_pd['devhx_9_tobacco'].isin([0,1]) & \\\n",
    "                raw_PREGNANCY_pd['devhx_9_marijuana'].isin([0,1]) & \\\n",
    "                raw_PREGNANCY_pd['devhx_9_coc_crack'].isin([0,1]) & \\\n",
    "                raw_PREGNANCY_pd['devhx_9_her_morph'].isin([0,1]) & \\\n",
    "                raw_PREGNANCY_pd['devhx_9_oxycont'].isin([0,1]) & \\\n",
    "                raw_PREGNANCY_pd['devhx_9_other_drugs'].isin([0,1])\n",
    "PREGNANCY_pd = raw_PREGNANCY_pd.loc[PREGNANCY_is_valid]\n",
    "PREGNANCY_pd['drug_used'] = np.where(PREGNANCY_pd['devhx_9_tobacco'] + \\\n",
    "                PREGNANCY_pd['devhx_9_marijuana'] + \\\n",
    "                PREGNANCY_pd['devhx_9_coc_crack'] + \\\n",
    "                PREGNANCY_pd['devhx_9_her_morph'] + \\\n",
    "                PREGNANCY_pd['devhx_9_oxycont'] + \\\n",
    "                PREGNANCY_pd['devhx_9_other_drugs'], 1, 0).astype(int)\n",
    "PREGNANCY_pd.drop(['visit','devhx_1_p', 'devhx_9_tobacco', 'devhx_9_marijuana','devhx_9_coc_crack',\\\n",
    "                              'devhx_9_her_morph', 'devhx_9_oxycont','devhx_9_alcohol','devhx_9_other_drugs'],axis=1,inplace=True)\n",
    "PREGNANCY_pd.drop([0],axis=0, inplace=True)"
   ]
  },
  {
   "cell_type": "code",
   "execution_count": 8,
   "metadata": {},
   "outputs": [],
   "source": [
    "raw_READING_pd = pd.read_excel('data/sports_activ_read_music01.xlsx')\n",
    "raw_READING_pd.dropna(axis=0, inplace=True)\n",
    "READING_is_valid = (raw_READING_pd['sai_read_hrs_wk_y'] != 999) & \\\n",
    "                    (raw_READING_pd['eventname'] == '3_year_follow_up_y_arm_1')\n",
    "READING_pd = raw_READING_pd.loc[READING_is_valid]\n",
    "READING_pd.drop(['eventname'],axis=1, inplace=True)\n"
   ]
  },
  {
   "cell_type": "code",
   "execution_count": 11,
   "metadata": {},
   "outputs": [],
   "source": [
    "raw_ADHD_pd = pd.read_excel('data/attn_deficit_hyperactiv_p01.xlsx')\n",
    "raw_ADHD_pd.dropna(axis=0, inplace=True)\n",
    "# 1_year_follow_up_y_arm_1\n",
    "# baseline_year_1_arm_1\n",
    "ADHD_is_valid = raw_ADHD_pd['eventname'] == 'baseline_year_1_arm_1'\n",
    "ADHD_pd = raw_ADHD_pd.loc[ADHD_is_valid]\n",
    "ADHD_pd = ADHD_pd[['subjectkey','score_sum']]"
   ]
  },
  {
   "cell_type": "code",
   "execution_count": 12,
   "metadata": {},
   "outputs": [
    {
     "data": {
      "text/plain": [
       "1305"
      ]
     },
     "execution_count": 12,
     "metadata": {},
     "output_type": "execute_result"
    }
   ],
   "source": [
    "len(list(set(ADHD_pd.subjectkey)))"
   ]
  },
  {
   "cell_type": "code",
   "execution_count": 13,
   "metadata": {},
   "outputs": [
    {
     "data": {
      "text/plain": [
       "count    1305.000000\n",
       "mean       38.549425\n",
       "std        14.366881\n",
       "min         3.000000\n",
       "50%        38.000000\n",
       "80%        51.000000\n",
       "90%        58.600000\n",
       "max        76.000000\n",
       "Name: score_sum, dtype: float64"
      ]
     },
     "execution_count": 13,
     "metadata": {},
     "output_type": "execute_result"
    }
   ],
   "source": [
    "ADHD_pd['score_sum'].astype('float').describe(percentiles=[0.8, 0.9])\n",
    "# 90% threshold : 58.6\n",
    "# For binary class,\n",
    "# ADHD_pd['ADHD_risky'] = np.where(ADHD_pd['score_sum'].astype('float') >= 58.6, 1, 0)"
   ]
  },
  {
   "cell_type": "code",
   "execution_count": 15,
   "metadata": {},
   "outputs": [
    {
     "data": {
      "text/plain": [
       "1305"
      ]
     },
     "execution_count": 15,
     "metadata": {},
     "output_type": "execute_result"
    }
   ],
   "source": [
    "len(list(set(ADHD_pd.subjectkey)))"
   ]
  },
  {
   "cell_type": "code",
<<<<<<< HEAD
   "execution_count": 13,
=======
   "execution_count": 14,
   "id": "1957bda5-51c8-41ec-bd22-061b74799df0",
>>>>>>> 0acead96b56de605ffef2dec8f182bcd7422bb38
   "metadata": {},
   "outputs": [
    {
     "name": "stdout",
     "output_type": "stream",
     "text": [
      "432\n"
     ]
    }
   ],
   "source": [
    "common_participants = list(set(ADHD_pd.subjectkey) & (set(BMI_pd.subjectkey) | set(SLEEP_pd.subjectkey) | set(INCOME_pd.subjectkey) | set(SCREEN_pd.subjectkey) | set(PREGNANCY_pd.subjectkey)))\n",
    "print(len(common_participants))"
   ]
  },
  {
   "cell_type": "code",
<<<<<<< HEAD
   "execution_count": 193,
=======
   "execution_count": 15,
   "id": "46589c37-fef1-4823-986e-3c26b376b0b3",
>>>>>>> 0acead96b56de605ffef2dec8f182bcd7422bb38
   "metadata": {},
   "outputs": [],
   "source": [
    "common_BMI_pd = BMI_pd.loc[BMI_pd.subjectkey.isin(common_participants)]\n",
    "common_SLEEP_pd = SLEEP_pd.loc[SLEEP_pd.subjectkey.isin(common_participants)]\n",
    "common_INCOME_pd = INCOME_pd.loc[INCOME_pd.subjectkey.isin(common_participants)]\n",
    "common_SCREEN_pd = SCREEN_pd.loc[SCREEN_pd.subjectkey.isin(common_participants)]\n",
    "common_PREGNANCY_pd = PREGNANCY_pd.loc[PREGNANCY_pd.subjectkey.isin(common_participants)]\n",
    "common_ADHD_pd = ADHD_pd.loc[ADHD_pd.subjectkey.isin(common_participants)]"
   ]
  },
  {
   "cell_type": "code",
<<<<<<< HEAD
   "execution_count": 194,
=======
   "execution_count": 16,
   "id": "293525a0-daf2-4ac4-a1c0-65439ec74b4e",
>>>>>>> 0acead96b56de605ffef2dec8f182bcd7422bb38
   "metadata": {},
   "outputs": [],
   "source": [
    "common_BMI_pd.set_index(keys='subjectkey', inplace=True)\n",
    "common_SLEEP_pd.set_index(keys='subjectkey', inplace=True)\n",
    "common_INCOME_pd.set_index(keys='subjectkey', inplace=True)\n",
    "common_SCREEN_pd.set_index(keys='subjectkey', inplace=True)\n",
    "common_PREGNANCY_pd.set_index(keys='subjectkey', inplace=True)\n",
    "common_ADHD_pd.set_index(keys='subjectkey', inplace=True)\n",
    "\n",
    "common_BMI_pd.sort_index(inplace=True)\n",
    "common_SLEEP_pd.sort_index(inplace=True)\n",
    "common_INCOME_pd.sort_index(inplace=True)\n",
    "common_SCREEN_pd.sort_index(inplace=True)\n",
    "common_PREGNANCY_pd.sort_index(inplace=True)\n",
    "common_ADHD_pd.sort_index(inplace=True)"
   ]
  },
  {
   "cell_type": "code",
<<<<<<< HEAD
   "execution_count": 195,
=======
   "execution_count": 17,
   "id": "a164ad8b-3f98-47de-a984-cb2bb571e8f9",
>>>>>>> 0acead96b56de605ffef2dec8f182bcd7422bb38
   "metadata": {},
   "outputs": [],
   "source": [
    "ADHD_data = pd.concat([common_ADHD_pd,common_BMI_pd,common_SLEEP_pd,common_INCOME_pd,common_SCREEN_pd,common_PREGNANCY_pd],axis=1)\n",
    "ADHD_data.to_csv(\"data/ADHD_data.csv\", mode='w')"
   ]
  },
  {
   "cell_type": "code",
   "execution_count": 18,
   "id": "b4c6b6f5",
   "metadata": {},
   "outputs": [
    {
     "data": {
      "text/html": [
       "<div>\n",
       "<style scoped>\n",
       "    .dataframe tbody tr th:only-of-type {\n",
       "        vertical-align: middle;\n",
       "    }\n",
       "\n",
       "    .dataframe tbody tr th {\n",
       "        vertical-align: top;\n",
       "    }\n",
       "\n",
       "    .dataframe thead th {\n",
       "        text-align: right;\n",
       "    }\n",
       "</style>\n",
       "<table border=\"1\" class=\"dataframe\">\n",
       "  <thead>\n",
       "    <tr style=\"text-align: right;\">\n",
       "      <th></th>\n",
       "      <th>score_sum</th>\n",
       "      <th>BMI</th>\n",
       "      <th>fit_ss_sleepperiod_minutes</th>\n",
       "      <th>demo_comb_income_v2</th>\n",
       "      <th>avg_screen</th>\n",
       "      <th>drug_used</th>\n",
       "    </tr>\n",
       "    <tr>\n",
       "      <th>subjectkey</th>\n",
       "      <th></th>\n",
       "      <th></th>\n",
       "      <th></th>\n",
       "      <th></th>\n",
       "      <th></th>\n",
       "      <th></th>\n",
       "    </tr>\n",
       "  </thead>\n",
       "  <tbody>\n",
       "    <tr>\n",
       "      <th>NDARMC003PZF</th>\n",
       "      <td>37</td>\n",
       "      <td>17.849609</td>\n",
       "      <td>458.000000</td>\n",
       "      <td>2</td>\n",
       "      <td>12.714286</td>\n",
       "      <td>0.0</td>\n",
       "    </tr>\n",
       "    <tr>\n",
       "      <th>NDAR_INV019DXLU4</th>\n",
       "      <td>24</td>\n",
       "      <td>NaN</td>\n",
       "      <td>440.318182</td>\n",
       "      <td>9</td>\n",
       "      <td>4.071429</td>\n",
       "      <td>NaN</td>\n",
       "    </tr>\n",
       "    <tr>\n",
       "      <th>NDAR_INV021403LF</th>\n",
       "      <td>26</td>\n",
       "      <td>21.107358</td>\n",
       "      <td>449.023810</td>\n",
       "      <td>7</td>\n",
       "      <td>3.214286</td>\n",
       "      <td>0.0</td>\n",
       "    </tr>\n",
       "    <tr>\n",
       "      <th>NDAR_INV042UJKFB</th>\n",
       "      <td>19</td>\n",
       "      <td>19.866220</td>\n",
       "      <td>451.000000</td>\n",
       "      <td>9</td>\n",
       "      <td>7.75</td>\n",
       "      <td>0.0</td>\n",
       "    </tr>\n",
       "    <tr>\n",
       "      <th>NDAR_INV05T64PXD</th>\n",
       "      <td>35</td>\n",
       "      <td>22.884619</td>\n",
       "      <td>433.538462</td>\n",
       "      <td>NaN</td>\n",
       "      <td>2.178571</td>\n",
       "      <td>0.0</td>\n",
       "    </tr>\n",
       "    <tr>\n",
       "      <th>...</th>\n",
       "      <td>...</td>\n",
       "      <td>...</td>\n",
       "      <td>...</td>\n",
       "      <td>...</td>\n",
       "      <td>...</td>\n",
       "      <td>...</td>\n",
       "    </tr>\n",
       "    <tr>\n",
       "      <th>NDAR_INVZHCK39Y1</th>\n",
       "      <td>48</td>\n",
       "      <td>14.892980</td>\n",
       "      <td>401.166667</td>\n",
       "      <td>8</td>\n",
       "      <td>1.035714</td>\n",
       "      <td>0.0</td>\n",
       "    </tr>\n",
       "    <tr>\n",
       "      <th>NDAR_INVZJ8TBWKJ</th>\n",
       "      <td>29</td>\n",
       "      <td>15.673306</td>\n",
       "      <td>452.342105</td>\n",
       "      <td>3</td>\n",
       "      <td>3.142857</td>\n",
       "      <td>0.0</td>\n",
       "    </tr>\n",
       "    <tr>\n",
       "      <th>NDAR_INVZN9E45NT</th>\n",
       "      <td>21</td>\n",
       "      <td>24.445029</td>\n",
       "      <td>393.642857</td>\n",
       "      <td>3</td>\n",
       "      <td>8.25</td>\n",
       "      <td>0.0</td>\n",
       "    </tr>\n",
       "    <tr>\n",
       "      <th>NDAR_INVZXL47HRG</th>\n",
       "      <td>28</td>\n",
       "      <td>17.771905</td>\n",
       "      <td>427.900000</td>\n",
       "      <td>7</td>\n",
       "      <td>4.071429</td>\n",
       "      <td>0.0</td>\n",
       "    </tr>\n",
       "    <tr>\n",
       "      <th>NDAR_INVZZLZCKAY</th>\n",
       "      <td>47</td>\n",
       "      <td>29.631819</td>\n",
       "      <td>454.578947</td>\n",
       "      <td>9</td>\n",
       "      <td>2.214286</td>\n",
       "      <td>NaN</td>\n",
       "    </tr>\n",
       "  </tbody>\n",
       "</table>\n",
       "<p>432 rows × 6 columns</p>\n",
       "</div>"
      ],
      "text/plain": [
       "                 score_sum        BMI  fit_ss_sleepperiod_minutes  \\\n",
       "subjectkey                                                          \n",
       "NDARMC003PZF            37  17.849609                  458.000000   \n",
       "NDAR_INV019DXLU4        24        NaN                  440.318182   \n",
       "NDAR_INV021403LF        26  21.107358                  449.023810   \n",
       "NDAR_INV042UJKFB        19  19.866220                  451.000000   \n",
       "NDAR_INV05T64PXD        35  22.884619                  433.538462   \n",
       "...                    ...        ...                         ...   \n",
       "NDAR_INVZHCK39Y1        48  14.892980                  401.166667   \n",
       "NDAR_INVZJ8TBWKJ        29  15.673306                  452.342105   \n",
       "NDAR_INVZN9E45NT        21  24.445029                  393.642857   \n",
       "NDAR_INVZXL47HRG        28  17.771905                  427.900000   \n",
       "NDAR_INVZZLZCKAY        47  29.631819                  454.578947   \n",
       "\n",
       "                 demo_comb_income_v2 avg_screen  drug_used  \n",
       "subjectkey                                                  \n",
       "NDARMC003PZF                       2  12.714286        0.0  \n",
       "NDAR_INV019DXLU4                   9   4.071429        NaN  \n",
       "NDAR_INV021403LF                   7   3.214286        0.0  \n",
       "NDAR_INV042UJKFB                   9       7.75        0.0  \n",
       "NDAR_INV05T64PXD                 NaN   2.178571        0.0  \n",
       "...                              ...        ...        ...  \n",
       "NDAR_INVZHCK39Y1                   8   1.035714        0.0  \n",
       "NDAR_INVZJ8TBWKJ                   3   3.142857        0.0  \n",
       "NDAR_INVZN9E45NT                   3       8.25        0.0  \n",
       "NDAR_INVZXL47HRG                   7   4.071429        0.0  \n",
       "NDAR_INVZZLZCKAY                   9   2.214286        NaN  \n",
       "\n",
       "[432 rows x 6 columns]"
      ]
     },
     "execution_count": 18,
     "metadata": {},
     "output_type": "execute_result"
    }
   ],
   "source": [
    "ADHD_data"
   ]
  },
  {
   "cell_type": "code",
   "execution_count": null,
   "id": "3f0728cd",
   "metadata": {},
   "outputs": [],
   "source": [
    "432"
   ]
  }
 ],
 "metadata": {
  "kernelspec": {
   "display_name": "Python 3",
   "language": "python",
   "name": "python3"
  },
  "language_info": {
   "codemirror_mode": {
    "name": "ipython",
    "version": 3
   },
   "file_extension": ".py",
   "mimetype": "text/x-python",
   "name": "python",
   "nbconvert_exporter": "python",
   "pygments_lexer": "ipython3",
   "version": "3.8.3"
  }
 },
 "nbformat": 4,
 "nbformat_minor": 5
}
