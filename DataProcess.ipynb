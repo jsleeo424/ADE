{
 "cells": [
  {
   "cell_type": "code",
   "execution_count": 2,
   "id": "d78ea76f-c1de-423d-8141-943f07b416e4",
   "metadata": {},
   "outputs": [],
   "source": [
    "import numpy as np\n",
    "import pandas as pd"
   ]
  },
  {
   "cell_type": "code",
   "execution_count": 3,
   "id": "e86b6771-e805-4381-adc4-19e54b69d0a8",
   "metadata": {},
   "outputs": [],
   "source": [
    "raw_BMI_pd = pd.read_excel('data/abcd_ant01.xlsx')\n",
    "raw_BMI_pd.dropna(axis=0, inplace=True)\n",
    "raw_BMI_pd.drop(['anthro_waist_cm','anthroweightcast','anthroweight2lb'], axis=1, inplace=True)\n",
    "BMI_is_baseline = (raw_BMI_pd['eventname'] == '2_year_follow_up_y_arm_1')\n",
    "BMI_pd = raw_BMI_pd.loc[BMI_is_baseline]\n",
    "BMI_pd = BMI_pd.astype({'anthroweight1lb':'float','anthroheightcalc':'float'})\n",
    "# weight (lb) / [height (in)]^2 x 703\n",
    "BMI_pd['BMI'] = BMI_pd['anthroweight1lb'] / (BMI_pd['anthroheightcalc'] ** 2) * 703\n",
    "BMI_pd.drop(['eventname','anthroweight1lb','anthroheightcalc'], axis=1,inplace=True)"
   ]
  },
  {
   "cell_type": "code",
   "execution_count": 4,
   "id": "ce236a12-a070-4456-a8ef-d612778458a6",
   "metadata": {},
   "outputs": [],
   "source": [
    "raw_SLEEP_pd = pd.read_excel('data/abcd_fbdss01.xlsx')\n",
    "raw_SLEEP_pd.dropna(axis=0, inplace=True)\n",
    "SLEEP_is_baseline = (raw_SLEEP_pd['eventname'] == '2_year_follow_up_y_arm_1')\n",
    "SLEEP_pd = raw_SLEEP_pd.loc[SLEEP_is_baseline]\n",
    "SLEEP_pd = SLEEP_pd.groupby(['subjectkey'], as_index=False)['fit_ss_sleepperiod_minutes'].mean()"
   ]
  },
  {
   "cell_type": "code",
   "execution_count": 5,
   "id": "40a7148f-2782-4ce7-bacd-0d4522a957df",
   "metadata": {},
   "outputs": [
    {
     "name": "stderr",
     "output_type": "stream",
     "text": [
      "/var/folders/ky/kd4vshc11r5527rm2mgv0qvr0000gn/T/ipykernel_65436/3054932719.py:5: SettingWithCopyWarning: \n",
      "A value is trying to be set on a copy of a slice from a DataFrame\n",
      "\n",
      "See the caveats in the documentation: https://pandas.pydata.org/pandas-docs/stable/user_guide/indexing.html#returning-a-view-versus-a-copy\n",
      "  INCOME_pd.drop(['eventname'], axis=1, inplace=True)\n"
     ]
    }
   ],
   "source": [
    "raw_INCOME_pd = pd.read_excel('data/pdem02.xlsx')\n",
    "raw_INCOME_pd.dropna(axis=0, inplace=True)\n",
    "INCOME_is_baseline = (raw_INCOME_pd['eventname'] == 'baseline_year_1_arm_1') & (raw_INCOME_pd['demo_comb_income_v2'].isin(range(10)))\n",
    "INCOME_pd = raw_INCOME_pd.loc[INCOME_is_baseline]\n",
    "INCOME_pd.drop(['eventname'], axis=1, inplace=True) "
   ]
  },
  {
   "cell_type": "code",
   "execution_count": 6,
   "id": "e2df53df-b466-4b7b-a2b3-7b0d4837987d",
   "metadata": {},
   "outputs": [],
   "source": [
    "raw_SCREEN_pd = pd.read_excel('data/abcd_stq01.xlsx')\n",
    "raw_SCREEN_pd.dropna(axis=0, inplace=True)\n",
    "SCREEN_is_baseline = (raw_SCREEN_pd['eventname'] == 'baseline_year_1_arm_1')\n",
    "SCREEN_pd = raw_SCREEN_pd.loc[SCREEN_is_baseline]\n",
    "pd.set_option('mode.chained_assignment', None)\n",
    "SCREEN_pd['avg_screen'] = ((SCREEN_pd['screen1_wkdy_y'] + \\\n",
    "                        SCREEN_pd['screen2_wkdy_y'] + \\\n",
    "                        SCREEN_pd['screen3_wkdy_y'] + \\\n",
    "                        SCREEN_pd['screen4_wkdy_y'] + \\\n",
    "                        SCREEN_pd['screen5_wkdy_y'] + \\\n",
    "                        SCREEN_pd['screen6_wkdy_y']) * 5. + \\\n",
    "                        (SCREEN_pd['screen7_wknd_y'] + \\\n",
    "                        SCREEN_pd['screen8_wknd_y'] + \\\n",
    "                        SCREEN_pd['screen9_wknd_y'] + \\\n",
    "                        SCREEN_pd['screen10_wknd_y'] + \\\n",
    "                        SCREEN_pd['screen11_wknd_y'] + \\\n",
    "                        SCREEN_pd['screen12_wknd_y']) * 2.) / 7.\n",
    "SCREEN_pd.drop(['screen1_wkdy_y','screen2_wkdy_y',\\\n",
    "                            'screen3_wkdy_y','screen4_wkdy_y',\\\n",
    "                            'screen5_wkdy_y','screen6_wkdy_y',\\\n",
    "                            'screen7_wknd_y','screen8_wknd_y',\\\n",
    "                            'screen9_wknd_y','screen10_wknd_y',\\\n",
    "                            'screen11_wknd_y','screen12_wknd_y',\\\n",
    "                           'eventname'],axis=1, inplace=True)"
   ]
  },
  {
   "cell_type": "code",
   "execution_count": 7,
   "id": "c7c041cf-b30e-4b61-bf6b-6911dacaa95b",
   "metadata": {},
   "outputs": [],
   "source": [
    "raw_PREGNANCY_pd = pd.read_excel('data/dhx01.xlsx')\n",
    "raw_PREGNANCY_pd.dropna(axis=0, inplace=True)\n",
    "PREGNANCY_is_valid = (raw_PREGNANCY_pd['visit'] == 'baseline_year_1_arm_1') & \\\n",
    "                raw_PREGNANCY_pd['devhx_1_p'] == 1 &\\\n",
    "                raw_PREGNANCY_pd['devhx_9_tobacco'].isin([0,1]) & \\\n",
    "                raw_PREGNANCY_pd['devhx_9_marijuana'].isin([0,1]) & \\\n",
    "                raw_PREGNANCY_pd['devhx_9_coc_crack'].isin([0,1]) & \\\n",
    "                raw_PREGNANCY_pd['devhx_9_her_morph'].isin([0,1]) & \\\n",
    "                raw_PREGNANCY_pd['devhx_9_oxycont'].isin([0,1]) & \\\n",
    "                raw_PREGNANCY_pd['devhx_9_other_drugs'].isin([0,1])\n",
    "PREGNANCY_pd = raw_PREGNANCY_pd.loc[PREGNANCY_is_valid]\n",
    "PREGNANCY_pd['drug_used'] = np.where(PREGNANCY_pd['devhx_9_tobacco'] + \\\n",
    "                PREGNANCY_pd['devhx_9_marijuana'] + \\\n",
    "                PREGNANCY_pd['devhx_9_coc_crack'] + \\\n",
    "                PREGNANCY_pd['devhx_9_her_morph'] + \\\n",
    "                PREGNANCY_pd['devhx_9_oxycont'] + \\\n",
    "                PREGNANCY_pd['devhx_9_other_drugs'], 1, 0).astype(int)\n",
    "PREGNANCY_pd.drop(['visit','devhx_1_p', 'devhx_9_tobacco', 'devhx_9_marijuana','devhx_9_coc_crack',\\\n",
    "                              'devhx_9_her_morph', 'devhx_9_oxycont','devhx_9_alcohol','devhx_9_other_drugs'],axis=1,inplace=True)\n",
    "PREGNANCY_pd.drop([0],axis=0, inplace=True)"
   ]
  },
  {
   "cell_type": "code",
   "execution_count": 8,
   "id": "28001efd-fcb2-4db5-a0ad-a2494acb2d4e",
   "metadata": {},
   "outputs": [],
   "source": [
    "raw_READING_pd = pd.read_excel('data/sports_activ_read_music01.xlsx')\n",
    "raw_READING_pd.dropna(axis=0, inplace=True)\n",
    "READING_is_valid = (raw_READING_pd['sai_read_hrs_wk_y'] != 999) & \\\n",
    "                    (raw_READING_pd['eventname'] == '3_year_follow_up_y_arm_1')\n",
    "READING_pd = raw_READING_pd.loc[READING_is_valid]\n",
    "READING_pd.drop(['eventname'],axis=1, inplace=True)\n"
   ]
  },
  {
   "cell_type": "code",
   "execution_count": 11,
   "id": "89f4f15d-8da2-42f5-803e-ed7c54baf613",
   "metadata": {},
   "outputs": [],
   "source": [
    "raw_ADHD_pd = pd.read_excel('data/attn_deficit_hyperactiv_p01.xlsx')\n",
    "raw_ADHD_pd.dropna(axis=0, inplace=True)\n",
    "# 1_year_follow_up_y_arm_1\n",
    "# baseline_year_1_arm_1\n",
    "ADHD_is_valid = raw_ADHD_pd['eventname'] == 'baseline_year_1_arm_1'\n",
    "ADHD_pd = raw_ADHD_pd.loc[ADHD_is_valid]\n",
    "ADHD_pd = ADHD_pd[['subjectkey','score_sum']]"
   ]
  },
  {
   "cell_type": "code",
   "execution_count": 12,
   "id": "761d6f58",
   "metadata": {},
   "outputs": [
    {
     "data": {
      "text/plain": [
       "1305"
      ]
     },
     "execution_count": 12,
     "metadata": {},
     "output_type": "execute_result"
    }
   ],
   "source": [
    "len(list(set(ADHD_pd.subjectkey)))"
   ]
  },
  {
   "cell_type": "code",
   "execution_count": 13,
   "id": "75aee281-4eb6-49d0-860f-19879ccccae0",
   "metadata": {},
   "outputs": [
    {
     "data": {
      "text/plain": [
       "count    1305.000000\n",
       "mean       38.549425\n",
       "std        14.366881\n",
       "min         3.000000\n",
       "50%        38.000000\n",
       "80%        51.000000\n",
       "90%        58.600000\n",
       "max        76.000000\n",
       "Name: score_sum, dtype: float64"
      ]
     },
     "execution_count": 13,
     "metadata": {},
     "output_type": "execute_result"
    }
   ],
   "source": [
    "ADHD_pd['score_sum'].astype('float').describe(percentiles=[0.8, 0.9])\n",
    "# 90% threshold : 58.6\n",
    "# For binary class,\n",
    "# ADHD_pd['ADHD_risky'] = np.where(ADHD_pd['score_sum'].astype('float') >= 58.6, 1, 0)"
   ]
  },
  {
   "cell_type": "code",
   "execution_count": 15,
   "id": "14c058d5",
   "metadata": {},
   "outputs": [
    {
     "data": {
      "text/plain": [
       "1305"
      ]
     },
     "execution_count": 15,
     "metadata": {},
     "output_type": "execute_result"
    }
   ],
   "source": [
    "len(list(set(ADHD_pd.subjectkey)))"
   ]
  },
  {
   "cell_type": "code",
   "execution_count": 13,
   "id": "1957bda5-51c8-41ec-bd22-061b74799df0",
   "metadata": {},
   "outputs": [
    {
     "name": "stdout",
     "output_type": "stream",
     "text": [
      "432\n"
     ]
    }
   ],
   "source": [
    "common_participants = list(set(ADHD_pd.subjectkey) & (set(BMI_pd.subjectkey) | set(SLEEP_pd.subjectkey) | set(INCOME_pd.subjectkey) | set(SCREEN_pd.subjectkey) | set(PREGNANCY_pd.subjectkey)))\n",
    "print(len(common_participants))"
   ]
  },
  {
   "cell_type": "code",
   "execution_count": 193,
   "id": "46589c37-fef1-4823-986e-3c26b376b0b3",
   "metadata": {},
   "outputs": [],
   "source": [
    "common_BMI_pd = BMI_pd.loc[BMI_pd.subjectkey.isin(common_participants)]\n",
    "common_SLEEP_pd = SLEEP_pd.loc[SLEEP_pd.subjectkey.isin(common_participants)]\n",
    "common_INCOME_pd = INCOME_pd.loc[INCOME_pd.subjectkey.isin(common_participants)]\n",
    "common_SCREEN_pd = SCREEN_pd.loc[SCREEN_pd.subjectkey.isin(common_participants)]\n",
    "common_PREGNANCY_pd = PREGNANCY_pd.loc[PREGNANCY_pd.subjectkey.isin(common_participants)]\n",
    "common_ADHD_pd = ADHD_pd.loc[ADHD_pd.subjectkey.isin(common_participants)]"
   ]
  },
  {
   "cell_type": "code",
   "execution_count": 194,
   "id": "293525a0-daf2-4ac4-a1c0-65439ec74b4e",
   "metadata": {},
   "outputs": [],
   "source": [
    "common_BMI_pd.set_index(keys='subjectkey', inplace=True)\n",
    "common_SLEEP_pd.set_index(keys='subjectkey', inplace=True)\n",
    "common_INCOME_pd.set_index(keys='subjectkey', inplace=True)\n",
    "common_SCREEN_pd.set_index(keys='subjectkey', inplace=True)\n",
    "common_PREGNANCY_pd.set_index(keys='subjectkey', inplace=True)\n",
    "common_ADHD_pd.set_index(keys='subjectkey', inplace=True)\n",
    "\n",
    "common_BMI_pd.sort_index(inplace=True)\n",
    "common_SLEEP_pd.sort_index(inplace=True)\n",
    "common_INCOME_pd.sort_index(inplace=True)\n",
    "common_SCREEN_pd.sort_index(inplace=True)\n",
    "common_PREGNANCY_pd.sort_index(inplace=True)\n",
    "common_ADHD_pd.sort_index(inplace=True)"
   ]
  },
  {
   "cell_type": "code",
   "execution_count": 195,
   "id": "a164ad8b-3f98-47de-a984-cb2bb571e8f9",
   "metadata": {},
   "outputs": [],
   "source": [
    "ADHD_data = pd.concat([common_ADHD_pd,common_BMI_pd,common_SLEEP_pd,common_INCOME_pd,common_SCREEN_pd,common_PREGNANCY_pd],axis=1)\n",
    "ADHD_data.to_csv(\"data/ADHD_data.csv\", mode='w')"
   ]
  }
 ],
 "metadata": {
  "kernelspec": {
   "display_name": "Python 3 (ipykernel)",
   "language": "python",
   "name": "python3"
  },
  "language_info": {
   "codemirror_mode": {
    "name": "ipython",
    "version": 3
   },
   "file_extension": ".py",
   "mimetype": "text/x-python",
   "name": "python",
   "nbconvert_exporter": "python",
   "pygments_lexer": "ipython3",
   "version": "3.8.13"
  }
 },
 "nbformat": 4,
 "nbformat_minor": 5
}
