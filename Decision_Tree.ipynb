{
 "cells": [
  {
   "cell_type": "code",
   "execution_count": 135,
   "id": "19e5f5cf-86fb-4aa9-9245-80bb90dc9783",
   "metadata": {},
   "outputs": [],
   "source": [
    "from sklearn import tree\n",
    "import numpy as np\n",
    "import pandas as pd\n",
    "from sklearn.model_selection import train_test_split\n",
    "from sklearn.metrics import mean_squared_error\n",
    "import matplotlib"
   ]
  },
  {
   "cell_type": "code",
   "execution_count": 64,
   "id": "f2a42d95-5956-45c7-bea1-e93c794c8473",
   "metadata": {},
   "outputs": [],
   "source": [
    "df = pd.read_csv('./data/ADHD_data.csv')"
   ]
  },
  {
   "cell_type": "code",
   "execution_count": 65,
   "id": "643bb366-5463-4df4-a524-6b99814d82f0",
   "metadata": {},
   "outputs": [
    {
     "name": "stdout",
     "output_type": "stream",
     "text": [
      "(304, 7)\n"
     ]
    }
   ],
   "source": [
    "raw = df.to_numpy()\n",
    "print(raw.shape)"
   ]
  },
  {
   "cell_type": "code",
   "execution_count": 66,
   "id": "cd8430bb-04b8-46de-9ba1-7701052f2917",
   "metadata": {},
   "outputs": [
    {
     "data": {
      "text/plain": [
       "(304, 5)"
      ]
     },
     "execution_count": 66,
     "metadata": {},
     "output_type": "execute_result"
    }
   ],
   "source": [
    "X = raw[:,2:]\n",
    "X.shape"
   ]
  },
  {
   "cell_type": "code",
   "execution_count": 67,
   "id": "8f7e623c-b810-4d97-807c-c348faef66ee",
   "metadata": {},
   "outputs": [
    {
     "data": {
      "text/plain": [
       "(304,)"
      ]
     },
     "execution_count": 67,
     "metadata": {},
     "output_type": "execute_result"
    }
   ],
   "source": [
    "y = raw[:,1]\n",
    "y = y.astype('int')\n",
    "y.shape"
   ]
  },
  {
   "cell_type": "code",
   "execution_count": 145,
   "id": "fcd8049e-f8f0-4931-a6fb-0597a4ba3428",
   "metadata": {},
   "outputs": [],
   "source": [
    "X_train, X_test, y_train, y_test = train_test_split(X, y, test_size=0.10)"
   ]
  },
  {
   "cell_type": "code",
   "execution_count": 178,
   "id": "68c8e346-bf88-4fd1-aca3-9efa37585c67",
   "metadata": {},
   "outputs": [],
   "source": [
    "clf = tree.DecisionTreeRegressor(max_depth=3)"
   ]
  },
  {
   "cell_type": "code",
   "execution_count": 179,
   "id": "0b373d8f-dc59-4e33-bfb0-6b914148ec0e",
   "metadata": {},
   "outputs": [
    {
     "data": {
      "text/plain": [
       "DecisionTreeRegressor(max_depth=3)"
      ]
     },
     "execution_count": 179,
     "metadata": {},
     "output_type": "execute_result"
    }
   ],
   "source": [
    "clf.fit(X_train, y_train)"
   ]
  },
  {
   "cell_type": "code",
   "execution_count": 180,
   "id": "65381f8f-4d9c-4d32-87fb-b06243743999",
   "metadata": {},
   "outputs": [],
   "source": [
    "prediction = clf.predict(X_test)"
   ]
  },
  {
   "cell_type": "code",
   "execution_count": 181,
   "id": "c8239667-d4f2-46ee-9017-6a925c905ad8",
   "metadata": {},
   "outputs": [
    {
     "name": "stdout",
     "output_type": "stream",
     "text": [
      "167.5193938410897\n"
     ]
    }
   ],
   "source": [
    "score = mean_squared_error(y_test, prediction)\n",
    "print(score)"
   ]
  },
  {
   "cell_type": "code",
   "execution_count": 182,
   "id": "067390af-b902-4571-a72c-1621dc0031c0",
   "metadata": {},
   "outputs": [
    {
     "name": "stdout",
     "output_type": "stream",
     "text": [
      "[38 32 49 30 31 51 44 44 64 68 17 29 47 30 39 57 27 24 22 23 27 32 17 59\n",
      " 22 33 38 43 32 56 56]\n"
     ]
    }
   ],
   "source": [
    "print(y_test)"
   ]
  },
  {
   "cell_type": "code",
   "execution_count": 183,
   "id": "6f1db3de-21f4-42d1-bb46-2f7387110c74",
   "metadata": {},
   "outputs": [
    {
     "name": "stdout",
     "output_type": "stream",
     "text": [
      "[35.07092199 43.16       41.         35.07092199 35.07092199 35.07092199\n",
      " 57.         35.07092199 46.         35.07092199 35.07092199 35.07092199\n",
      " 39.01612903 35.07092199 39.01612903 69.         35.07092199 35.07092199\n",
      " 35.07092199 44.         39.01612903 39.01612903 35.07092199 39.01612903\n",
      " 35.07092199 39.01612903 35.07092199 35.07092199 35.07092199 57.\n",
      " 35.07092199]\n"
     ]
    }
   ],
   "source": [
    "print(prediction)"
   ]
  },
  {
   "cell_type": "code",
   "execution_count": 184,
   "id": "26071c46-eeea-4aa9-a2f5-ba59afe1411a",
   "metadata": {},
   "outputs": [
    {
     "data": {
      "text/plain": [
       "[Text(0.5, 0.875, 'X[1] <= 499.917\\nsquared_error = 210.726\\nsamples = 273\\nvalue = 38.516'),\n",
       " Text(0.25, 0.625, 'X[0] <= 17.763\\nsquared_error = 208.126\\nsamples = 252\\nvalue = 37.885'),\n",
       " Text(0.125, 0.375, 'X[0] <= 17.029\\nsquared_error = 175.22\\nsamples = 86\\nvalue = 40.965'),\n",
       " Text(0.0625, 0.125, 'squared_error = 165.5\\nsamples = 62\\nvalue = 39.016'),\n",
       " Text(0.1875, 0.125, 'squared_error = 165.167\\nsamples = 24\\nvalue = 46.0'),\n",
       " Text(0.375, 0.375, 'X[4] <= 0.5\\nsquared_error = 217.712\\nsamples = 166\\nvalue = 36.289'),\n",
       " Text(0.3125, 0.125, 'squared_error = 196.931\\nsamples = 141\\nvalue = 35.071'),\n",
       " Text(0.4375, 0.125, 'squared_error = 279.334\\nsamples = 25\\nvalue = 43.16'),\n",
       " Text(0.75, 0.625, 'X[3] <= 1.214\\nsquared_error = 179.705\\nsamples = 21\\nvalue = 46.095'),\n",
       " Text(0.625, 0.375, 'X[3] <= 0.625\\nsquared_error = 144.889\\nsamples = 3\\nvalue = 60.667'),\n",
       " Text(0.5625, 0.125, 'squared_error = 0.0\\nsamples = 1\\nvalue = 44.0'),\n",
       " Text(0.6875, 0.125, 'squared_error = 9.0\\nsamples = 2\\nvalue = 69.0'),\n",
       " Text(0.875, 0.375, 'X[0] <= 16.005\\nsquared_error = 144.222\\nsamples = 18\\nvalue = 43.667'),\n",
       " Text(0.8125, 0.125, 'squared_error = 222.0\\nsamples = 3\\nvalue = 57.0'),\n",
       " Text(0.9375, 0.125, 'squared_error = 86.0\\nsamples = 15\\nvalue = 41.0')]"
      ]
     },
     "execution_count": 184,
     "metadata": {},
     "output_type": "execute_result"
    },
    {
     "data": {
      "image/png": "[encoded data removed]",
      "text/plain": [
       "<Figure size 432x288 with 1 Axes>"
      ]
     },
     "metadata": {
      "needs_background": "light"
     },
     "output_type": "display_data"
    }
   ],
   "source": [
    "tree.plot_tree(clf)"
   ]
  },
  {
   "cell_type": "code",
   "execution_count": null,
   "id": "ba392ba1-924d-4e92-8f2a-d14ed72e9e15",
   "metadata": {},
   "outputs": [],
   "source": []
  }
 ],
 "metadata": {
  "kernelspec": {
   "display_name": "Python 3 (ipykernel)",
   "language": "python",
   "name": "python3"
  },
  "language_info": {
   "codemirror_mode": {
    "name": "ipython",
    "version": 3
   },
   "file_extension": ".py",
   "mimetype": "text/x-python",
   "name": "python",
   "nbconvert_exporter": "python",
   "pygments_lexer": "ipython3",
   "version": "3.8.12"
  }
 },
 "nbformat": 4,
 "nbformat_minor": 5
}
