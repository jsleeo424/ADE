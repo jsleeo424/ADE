{
 "cells": [
  {
   "cell_type": "code",
   "execution_count": 1,
   "id": "184880c2-ed97-42d7-825a-699b0ff3edb7",
   "metadata": {},
   "outputs": [],
   "source": [
    "from sklearn.neural_network import MLPRegressor\n",
    "import numpy as np\n",
    "import pandas as pd\n",
    "from sklearn.model_selection import train_test_split\n",
    "from sklearn.metrics import mean_squared_error"
   ]
  },
  {
   "cell_type": "code",
   "execution_count": 2,
   "id": "72f62ae5-fb16-47f8-8d95-cac9aab32f12",
   "metadata": {},
   "outputs": [],
   "source": [
    "df = pd.read_csv('./data/ADHD_data.csv')"
   ]
  },
  {
   "cell_type": "code",
   "execution_count": 4,
   "id": "6c4c7d63-c094-41ac-acca-d0a96a6631d4",
   "metadata": {},
   "outputs": [
    {
     "name": "stdout",
     "output_type": "stream",
     "text": [
      "(304, 7)\n"
     ]
    }
   ],
   "source": [
    "raw = df.to_numpy()\n",
    "print(raw.shape)"
   ]
  },
  {
   "cell_type": "code",
   "execution_count": 5,
   "id": "45dfc8ea-a06a-4d95-8338-af2255afaacd",
   "metadata": {},
   "outputs": [
    {
     "data": {
      "text/plain": [
       "(304, 5)"
      ]
     },
     "execution_count": 5,
     "metadata": {},
     "output_type": "execute_result"
    }
   ],
   "source": [
    "X = raw[:,2:]\n",
    "X.shape"
   ]
  },
  {
   "cell_type": "code",
   "execution_count": 6,
   "id": "4d51245f-ce38-49a9-8cf2-afecb1d9bb36",
   "metadata": {},
   "outputs": [
    {
     "data": {
      "text/plain": [
       "(304,)"
      ]
     },
     "execution_count": 6,
     "metadata": {},
     "output_type": "execute_result"
    }
   ],
   "source": [
    "y = raw[:,1]\n",
    "y = y.astype('int')\n",
    "y.shape"
   ]
  },
  {
   "cell_type": "code",
   "execution_count": 89,
   "id": "60f151a3-0851-4538-a87f-c9041d39a55f",
   "metadata": {},
   "outputs": [],
   "source": [
    "X_train, X_test, y_train, y_test = train_test_split(X, y, test_size=0.10)"
   ]
  },
  {
   "cell_type": "code",
   "execution_count": 90,
   "id": "09ab4e86-2b36-4e77-bd81-4a1d695de7de",
   "metadata": {},
   "outputs": [],
   "source": [
    "clf = MLPRegressor(solver='lbfgs', alpha=1e-5, hidden_layer_sizes=(2,), random_state=0)"
   ]
  },
  {
   "cell_type": "code",
   "execution_count": 91,
   "id": "3c7767a0-6ed4-4324-b4d4-ce1d2b713c91",
   "metadata": {},
   "outputs": [
    {
     "data": {
      "text/plain": [
       "MLPRegressor(alpha=1e-05, hidden_layer_sizes=(2,), random_state=0,\n",
       "             solver='lbfgs')"
      ]
     },
     "execution_count": 91,
     "metadata": {},
     "output_type": "execute_result"
    }
   ],
   "source": [
    "clf.fit(X_train, y_train)"
   ]
  },
  {
   "cell_type": "code",
   "execution_count": 92,
   "id": "c95b3327-11d1-416c-b979-e45378d75751",
   "metadata": {},
   "outputs": [],
   "source": [
    "prediction = clf.predict(X_test)"
   ]
  },
  {
   "cell_type": "code",
   "execution_count": 93,
   "id": "8c91e787-dbd8-4254-b961-257928dc3d6a",
   "metadata": {},
   "outputs": [
    {
     "name": "stdout",
     "output_type": "stream",
     "text": [
      "262.75336410212105\n"
     ]
    }
   ],
   "source": [
    "score = mean_squared_error(y_test, prediction)\n",
    "print(score)"
   ]
  },
  {
   "cell_type": "code",
   "execution_count": 94,
   "id": "25edfdd9-6504-43cd-906f-2a49f3a6f777",
   "metadata": {},
   "outputs": [
    {
     "name": "stdout",
     "output_type": "stream",
     "text": [
      "[13 22 40 46 27 70 48 48 28 73 56 16 58 43 25 52 43 37 28 36 45 69 29 19\n",
      " 56 49 43 27 27 29 50]\n"
     ]
    }
   ],
   "source": [
    "print(y_test)"
   ]
  },
  {
   "cell_type": "code",
   "execution_count": 95,
   "id": "c9b409a7-d374-418b-80dd-be806ae590b2",
   "metadata": {},
   "outputs": [
    {
     "name": "stdout",
     "output_type": "stream",
     "text": [
      "[41.98331333 33.85353778 36.66704422 32.62009901 39.10396439 37.76603699\n",
      " 36.33788385 43.90292044 37.99337863 38.75730372 39.38425437 37.78837878\n",
      " 33.38165281 46.93550285 34.82125465 37.18155349 35.37728672 39.2739265\n",
      " 37.14678237 41.1076783  36.70309945 41.83755456 41.21935505 38.48651439\n",
      " 37.29474337 35.00376988 40.95033081 39.4868793  38.86922067 39.32623359\n",
      " 35.3916939 ]\n"
     ]
    }
   ],
   "source": [
    "print(prediction)"
   ]
  },
  {
   "cell_type": "code",
   "execution_count": null,
   "id": "b62302a5-4742-4244-a4ae-69a452f8ee77",
   "metadata": {},
   "outputs": [],
   "source": []
  }
 ],
 "metadata": {
  "kernelspec": {
   "display_name": "Python 3 (ipykernel)",
   "language": "python",
   "name": "python3"
  },
  "language_info": {
   "codemirror_mode": {
    "name": "ipython",
    "version": 3
   },
   "file_extension": ".py",
   "mimetype": "text/x-python",
   "name": "python",
   "nbconvert_exporter": "python",
   "pygments_lexer": "ipython3",
   "version": "3.8.12"
  }
 },
 "nbformat": 4,
 "nbformat_minor": 5
}
